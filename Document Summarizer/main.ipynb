{
 "cells": [
  {
   "cell_type": "code",
   "execution_count": 55,
   "id": "6a09cd9b",
   "metadata": {},
   "outputs": [
    {
     "name": "stdout",
     "output_type": "stream",
     "text": [
      "Requirement already satisfied: langchain in c:\\users\\md. emon\\.conda\\envs\\projectsenv\\lib\\site-packages (0.3.9)\n",
      "Requirement already satisfied: PyYAML>=5.3 in c:\\users\\md. emon\\.conda\\envs\\projectsenv\\lib\\site-packages (from langchain) (6.0.3)\n",
      "Requirement already satisfied: SQLAlchemy<3,>=1.4 in c:\\users\\md. emon\\.conda\\envs\\projectsenv\\lib\\site-packages (from langchain) (2.0.44)\n",
      "Requirement already satisfied: aiohttp<4.0.0,>=3.8.3 in c:\\users\\md. emon\\.conda\\envs\\projectsenv\\lib\\site-packages (from langchain) (3.13.2)\n",
      "Requirement already satisfied: langchain-core<0.4.0,>=0.3.21 in c:\\users\\md. emon\\.conda\\envs\\projectsenv\\lib\\site-packages (from langchain) (0.3.63)\n",
      "Requirement already satisfied: langchain-text-splitters<0.4.0,>=0.3.0 in c:\\users\\md. emon\\.conda\\envs\\projectsenv\\lib\\site-packages (from langchain) (0.3.8)\n",
      "Requirement already satisfied: langsmith<0.2.0,>=0.1.17 in c:\\users\\md. emon\\.conda\\envs\\projectsenv\\lib\\site-packages (from langchain) (0.1.147)\n",
      "Requirement already satisfied: numpy<2,>=1.22.4 in c:\\users\\md. emon\\.conda\\envs\\projectsenv\\lib\\site-packages (from langchain) (1.26.4)\n",
      "Requirement already satisfied: pydantic<3.0.0,>=2.7.4 in c:\\users\\md. emon\\.conda\\envs\\projectsenv\\lib\\site-packages (from langchain) (2.12.3)\n",
      "Requirement already satisfied: requests<3,>=2 in c:\\users\\md. emon\\.conda\\envs\\projectsenv\\lib\\site-packages (from langchain) (2.32.5)\n",
      "Requirement already satisfied: tenacity!=8.4.0,<10,>=8.1.0 in c:\\users\\md. emon\\.conda\\envs\\projectsenv\\lib\\site-packages (from langchain) (9.1.2)\n",
      "Requirement already satisfied: aiohappyeyeballs>=2.5.0 in c:\\users\\md. emon\\.conda\\envs\\projectsenv\\lib\\site-packages (from aiohttp<4.0.0,>=3.8.3->langchain) (2.6.1)\n",
      "Requirement already satisfied: aiosignal>=1.4.0 in c:\\users\\md. emon\\.conda\\envs\\projectsenv\\lib\\site-packages (from aiohttp<4.0.0,>=3.8.3->langchain) (1.4.0)\n",
      "Requirement already satisfied: attrs>=17.3.0 in c:\\users\\md. emon\\.conda\\envs\\projectsenv\\lib\\site-packages (from aiohttp<4.0.0,>=3.8.3->langchain) (25.4.0)\n",
      "Requirement already satisfied: frozenlist>=1.1.1 in c:\\users\\md. emon\\.conda\\envs\\projectsenv\\lib\\site-packages (from aiohttp<4.0.0,>=3.8.3->langchain) (1.8.0)\n",
      "Requirement already satisfied: multidict<7.0,>=4.5 in c:\\users\\md. emon\\.conda\\envs\\projectsenv\\lib\\site-packages (from aiohttp<4.0.0,>=3.8.3->langchain) (6.7.0)\n",
      "Requirement already satisfied: propcache>=0.2.0 in c:\\users\\md. emon\\.conda\\envs\\projectsenv\\lib\\site-packages (from aiohttp<4.0.0,>=3.8.3->langchain) (0.4.1)\n",
      "Requirement already satisfied: yarl<2.0,>=1.17.0 in c:\\users\\md. emon\\.conda\\envs\\projectsenv\\lib\\site-packages (from aiohttp<4.0.0,>=3.8.3->langchain) (1.22.0)\n",
      "Requirement already satisfied: jsonpatch<2.0,>=1.33 in c:\\users\\md. emon\\.conda\\envs\\projectsenv\\lib\\site-packages (from langchain-core<0.4.0,>=0.3.21->langchain) (1.33)\n",
      "Requirement already satisfied: packaging<25,>=23.2 in c:\\users\\md. emon\\.conda\\envs\\projectsenv\\lib\\site-packages (from langchain-core<0.4.0,>=0.3.21->langchain) (24.2)\n",
      "Requirement already satisfied: typing-extensions>=4.7 in c:\\users\\md. emon\\.conda\\envs\\projectsenv\\lib\\site-packages (from langchain-core<0.4.0,>=0.3.21->langchain) (4.15.0)\n",
      "Requirement already satisfied: jsonpointer>=1.9 in c:\\users\\md. emon\\.conda\\envs\\projectsenv\\lib\\site-packages (from jsonpatch<2.0,>=1.33->langchain-core<0.4.0,>=0.3.21->langchain) (3.0.0)\n",
      "Requirement already satisfied: httpx<1,>=0.23.0 in c:\\users\\md. emon\\.conda\\envs\\projectsenv\\lib\\site-packages (from langsmith<0.2.0,>=0.1.17->langchain) (0.28.1)\n",
      "Requirement already satisfied: orjson<4.0.0,>=3.9.14 in c:\\users\\md. emon\\.conda\\envs\\projectsenv\\lib\\site-packages (from langsmith<0.2.0,>=0.1.17->langchain) (3.11.4)\n",
      "Requirement already satisfied: requests-toolbelt<2.0.0,>=1.0.0 in c:\\users\\md. emon\\.conda\\envs\\projectsenv\\lib\\site-packages (from langsmith<0.2.0,>=0.1.17->langchain) (1.0.0)\n",
      "Requirement already satisfied: anyio in c:\\users\\md. emon\\.conda\\envs\\projectsenv\\lib\\site-packages (from httpx<1,>=0.23.0->langsmith<0.2.0,>=0.1.17->langchain) (4.11.0)\n",
      "Requirement already satisfied: certifi in c:\\users\\md. emon\\.conda\\envs\\projectsenv\\lib\\site-packages (from httpx<1,>=0.23.0->langsmith<0.2.0,>=0.1.17->langchain) (2025.10.5)\n",
      "Requirement already satisfied: httpcore==1.* in c:\\users\\md. emon\\.conda\\envs\\projectsenv\\lib\\site-packages (from httpx<1,>=0.23.0->langsmith<0.2.0,>=0.1.17->langchain) (1.0.9)\n",
      "Requirement already satisfied: idna in c:\\users\\md. emon\\.conda\\envs\\projectsenv\\lib\\site-packages (from httpx<1,>=0.23.0->langsmith<0.2.0,>=0.1.17->langchain) (3.11)\n",
      "Requirement already satisfied: h11>=0.16 in c:\\users\\md. emon\\.conda\\envs\\projectsenv\\lib\\site-packages (from httpcore==1.*->httpx<1,>=0.23.0->langsmith<0.2.0,>=0.1.17->langchain) (0.16.0)\n",
      "Requirement already satisfied: annotated-types>=0.6.0 in c:\\users\\md. emon\\.conda\\envs\\projectsenv\\lib\\site-packages (from pydantic<3.0.0,>=2.7.4->langchain) (0.7.0)\n",
      "Requirement already satisfied: pydantic-core==2.41.4 in c:\\users\\md. emon\\.conda\\envs\\projectsenv\\lib\\site-packages (from pydantic<3.0.0,>=2.7.4->langchain) (2.41.4)\n",
      "Requirement already satisfied: typing-inspection>=0.4.2 in c:\\users\\md. emon\\.conda\\envs\\projectsenv\\lib\\site-packages (from pydantic<3.0.0,>=2.7.4->langchain) (0.4.2)\n",
      "Requirement already satisfied: charset_normalizer<4,>=2 in c:\\users\\md. emon\\.conda\\envs\\projectsenv\\lib\\site-packages (from requests<3,>=2->langchain) (3.4.4)\n",
      "Requirement already satisfied: urllib3<3,>=1.21.1 in c:\\users\\md. emon\\.conda\\envs\\projectsenv\\lib\\site-packages (from requests<3,>=2->langchain) (2.3.0)\n",
      "Requirement already satisfied: greenlet>=1 in c:\\users\\md. emon\\.conda\\envs\\projectsenv\\lib\\site-packages (from SQLAlchemy<3,>=1.4->langchain) (3.2.4)\n",
      "Requirement already satisfied: sniffio>=1.1 in c:\\users\\md. emon\\.conda\\envs\\projectsenv\\lib\\site-packages (from anyio->httpx<1,>=0.23.0->langsmith<0.2.0,>=0.1.17->langchain) (1.3.1)\n",
      "Note: you may need to restart the kernel to use updated packages.\n"
     ]
    }
   ],
   "source": [
    "pip install langchain"
   ]
  },
  {
   "cell_type": "code",
   "execution_count": 56,
   "id": "a6dc671f",
   "metadata": {},
   "outputs": [
    {
     "name": "stdout",
     "output_type": "stream",
     "text": [
      "Requirement already satisfied: sentence_transformers in c:\\users\\md. emon\\.conda\\envs\\projectsenv\\lib\\site-packages (5.1.2)\n",
      "Requirement already satisfied: transformers<5.0.0,>=4.41.0 in c:\\users\\md. emon\\.conda\\envs\\projectsenv\\lib\\site-packages (from sentence_transformers) (4.57.1)\n",
      "Requirement already satisfied: tqdm in c:\\users\\md. emon\\.conda\\envs\\projectsenv\\lib\\site-packages (from sentence_transformers) (4.67.1)\n",
      "Requirement already satisfied: torch>=1.11.0 in c:\\users\\md. emon\\.conda\\envs\\projectsenv\\lib\\site-packages (from sentence_transformers) (2.9.0)\n",
      "Requirement already satisfied: scikit-learn in c:\\users\\md. emon\\.conda\\envs\\projectsenv\\lib\\site-packages (from sentence_transformers) (1.7.2)\n",
      "Requirement already satisfied: scipy in c:\\users\\md. emon\\.conda\\envs\\projectsenv\\lib\\site-packages (from sentence_transformers) (1.16.3)\n",
      "Requirement already satisfied: huggingface-hub>=0.20.0 in c:\\users\\md. emon\\.conda\\envs\\projectsenv\\lib\\site-packages (from sentence_transformers) (0.36.0)\n",
      "Requirement already satisfied: Pillow in c:\\users\\md. emon\\.conda\\envs\\projectsenv\\lib\\site-packages (from sentence_transformers) (12.0.0)\n",
      "Requirement already satisfied: typing_extensions>=4.5.0 in c:\\users\\md. emon\\.conda\\envs\\projectsenv\\lib\\site-packages (from sentence_transformers) (4.15.0)\n",
      "Requirement already satisfied: filelock in c:\\users\\md. emon\\.conda\\envs\\projectsenv\\lib\\site-packages (from transformers<5.0.0,>=4.41.0->sentence_transformers) (3.20.0)\n",
      "Requirement already satisfied: numpy>=1.17 in c:\\users\\md. emon\\.conda\\envs\\projectsenv\\lib\\site-packages (from transformers<5.0.0,>=4.41.0->sentence_transformers) (1.26.4)\n",
      "Requirement already satisfied: packaging>=20.0 in c:\\users\\md. emon\\.conda\\envs\\projectsenv\\lib\\site-packages (from transformers<5.0.0,>=4.41.0->sentence_transformers) (24.2)\n",
      "Requirement already satisfied: pyyaml>=5.1 in c:\\users\\md. emon\\.conda\\envs\\projectsenv\\lib\\site-packages (from transformers<5.0.0,>=4.41.0->sentence_transformers) (6.0.3)\n",
      "Requirement already satisfied: regex!=2019.12.17 in c:\\users\\md. emon\\.conda\\envs\\projectsenv\\lib\\site-packages (from transformers<5.0.0,>=4.41.0->sentence_transformers) (2025.10.23)\n",
      "Requirement already satisfied: requests in c:\\users\\md. emon\\.conda\\envs\\projectsenv\\lib\\site-packages (from transformers<5.0.0,>=4.41.0->sentence_transformers) (2.32.5)\n",
      "Requirement already satisfied: tokenizers<=0.23.0,>=0.22.0 in c:\\users\\md. emon\\.conda\\envs\\projectsenv\\lib\\site-packages (from transformers<5.0.0,>=4.41.0->sentence_transformers) (0.22.1)\n",
      "Requirement already satisfied: safetensors>=0.4.3 in c:\\users\\md. emon\\.conda\\envs\\projectsenv\\lib\\site-packages (from transformers<5.0.0,>=4.41.0->sentence_transformers) (0.6.2)\n",
      "Requirement already satisfied: fsspec>=2023.5.0 in c:\\users\\md. emon\\.conda\\envs\\projectsenv\\lib\\site-packages (from huggingface-hub>=0.20.0->sentence_transformers) (2025.9.0)\n",
      "Requirement already satisfied: sympy>=1.13.3 in c:\\users\\md. emon\\.conda\\envs\\projectsenv\\lib\\site-packages (from torch>=1.11.0->sentence_transformers) (1.14.0)\n",
      "Requirement already satisfied: networkx>=2.5.1 in c:\\users\\md. emon\\.conda\\envs\\projectsenv\\lib\\site-packages (from torch>=1.11.0->sentence_transformers) (3.5)\n",
      "Requirement already satisfied: jinja2 in c:\\users\\md. emon\\.conda\\envs\\projectsenv\\lib\\site-packages (from torch>=1.11.0->sentence_transformers) (3.1.6)\n",
      "Requirement already satisfied: mpmath<1.4,>=1.1.0 in c:\\users\\md. emon\\.conda\\envs\\projectsenv\\lib\\site-packages (from sympy>=1.13.3->torch>=1.11.0->sentence_transformers) (1.3.0)\n",
      "Requirement already satisfied: colorama in c:\\users\\md. emon\\.conda\\envs\\projectsenv\\lib\\site-packages (from tqdm->sentence_transformers) (0.4.6)\n",
      "Requirement already satisfied: MarkupSafe>=2.0 in c:\\users\\md. emon\\.conda\\envs\\projectsenv\\lib\\site-packages (from jinja2->torch>=1.11.0->sentence_transformers) (3.0.3)\n",
      "Requirement already satisfied: charset_normalizer<4,>=2 in c:\\users\\md. emon\\.conda\\envs\\projectsenv\\lib\\site-packages (from requests->transformers<5.0.0,>=4.41.0->sentence_transformers) (3.4.4)\n",
      "Requirement already satisfied: idna<4,>=2.5 in c:\\users\\md. emon\\.conda\\envs\\projectsenv\\lib\\site-packages (from requests->transformers<5.0.0,>=4.41.0->sentence_transformers) (3.11)\n",
      "Requirement already satisfied: urllib3<3,>=1.21.1 in c:\\users\\md. emon\\.conda\\envs\\projectsenv\\lib\\site-packages (from requests->transformers<5.0.0,>=4.41.0->sentence_transformers) (2.3.0)\n",
      "Requirement already satisfied: certifi>=2017.4.17 in c:\\users\\md. emon\\.conda\\envs\\projectsenv\\lib\\site-packages (from requests->transformers<5.0.0,>=4.41.0->sentence_transformers) (2025.10.5)\n",
      "Requirement already satisfied: joblib>=1.2.0 in c:\\users\\md. emon\\.conda\\envs\\projectsenv\\lib\\site-packages (from scikit-learn->sentence_transformers) (1.5.2)\n",
      "Requirement already satisfied: threadpoolctl>=3.1.0 in c:\\users\\md. emon\\.conda\\envs\\projectsenv\\lib\\site-packages (from scikit-learn->sentence_transformers) (3.6.0)\n",
      "Note: you may need to restart the kernel to use updated packages.\n"
     ]
    }
   ],
   "source": [
    "pip install sentence_transformers\n"
   ]
  },
  {
   "cell_type": "code",
   "execution_count": 57,
   "id": "e9a95d0b",
   "metadata": {},
   "outputs": [
    {
     "name": "stdout",
     "output_type": "stream",
     "text": [
      "Requirement already satisfied: torch in c:\\users\\md. emon\\.conda\\envs\\projectsenv\\lib\\site-packages (2.9.0)\n",
      "Requirement already satisfied: sentencepiece in c:\\users\\md. emon\\.conda\\envs\\projectsenv\\lib\\site-packages (0.2.1)\n",
      "Requirement already satisfied: transformers in c:\\users\\md. emon\\.conda\\envs\\projectsenv\\lib\\site-packages (4.57.1)\n",
      "Requirement already satisfied: accelerate in c:\\users\\md. emon\\.conda\\envs\\projectsenv\\lib\\site-packages (1.11.0)\n",
      "Requirement already satisfied: chromadb in c:\\users\\md. emon\\.conda\\envs\\projectsenv\\lib\\site-packages (1.3.0)\n",
      "Requirement already satisfied: tiktoken in c:\\users\\md. emon\\.conda\\envs\\projectsenv\\lib\\site-packages (0.12.0)\n",
      "Requirement already satisfied: streamlit in c:\\users\\md. emon\\.conda\\envs\\projectsenv\\lib\\site-packages (1.51.0)\n",
      "Collecting fastapi\n",
      "  Using cached fastapi-0.120.4-py3-none-any.whl.metadata (28 kB)\n",
      "Requirement already satisfied: uvicorn in c:\\users\\md. emon\\.conda\\envs\\projectsenv\\lib\\site-packages (0.38.0)\n",
      "Requirement already satisfied: python-multipart in c:\\users\\md. emon\\.conda\\envs\\projectsenv\\lib\\site-packages (0.0.20)\n",
      "Requirement already satisfied: aiofiles in c:\\users\\md. emon\\.conda\\envs\\projectsenv\\lib\\site-packages (25.1.0)\n",
      "Requirement already satisfied: pydantic in c:\\users\\md. emon\\.conda\\envs\\projectsenv\\lib\\site-packages (2.12.3)\n",
      "Requirement already satisfied: requests in c:\\users\\md. emon\\.conda\\envs\\projectsenv\\lib\\site-packages (2.32.5)\n",
      "Collecting beautifulsoup4\n",
      "  Using cached beautifulsoup4-4.14.2-py3-none-any.whl.metadata (3.8 kB)\n",
      "Requirement already satisfied: nltk in c:\\users\\md. emon\\.conda\\envs\\projectsenv\\lib\\site-packages (3.9.2)\n",
      "Collecting sklearn\n",
      "  Using cached sklearn-0.0.post12.tar.gz (2.6 kB)\n",
      "  Preparing metadata (setup.py): started\n",
      "  Preparing metadata (setup.py): finished with status 'error'\n",
      "Note: you may need to restart the kernel to use updated packages.\n"
     ]
    },
    {
     "name": "stderr",
     "output_type": "stream",
     "text": [
      "  error: subprocess-exited-with-error\n",
      "  \n",
      "  × python setup.py egg_info did not run successfully.\n",
      "  │ exit code: 1\n",
      "  ╰─> [15 lines of output]\n",
      "      The 'sklearn' PyPI package is deprecated, use 'scikit-learn'\n",
      "      rather than 'sklearn' for pip commands.\n",
      "      \n",
      "      Here is how to fix this error in the main use cases:\n",
      "      - use 'pip install scikit-learn' rather than 'pip install sklearn'\n",
      "      - replace 'sklearn' by 'scikit-learn' in your pip requirements files\n",
      "        (requirements.txt, setup.py, setup.cfg, Pipfile, etc ...)\n",
      "      - if the 'sklearn' package is used by one of your dependencies,\n",
      "        it would be great if you take some time to track which package uses\n",
      "        'sklearn' instead of 'scikit-learn' and report it to their issue tracker\n",
      "      - as a last resort, set the environment variable\n",
      "        SKLEARN_ALLOW_DEPRECATED_SKLEARN_PACKAGE_INSTALL=True to avoid this error\n",
      "      \n",
      "      More information is available at\n",
      "      https://github.com/scikit-learn/sklearn-pypi-package\n",
      "      [end of output]\n",
      "  \n",
      "  note: This error originates from a subprocess, and is likely not a problem with pip.\n",
      "error: metadata-generation-failed\n",
      "\n",
      "× Encountered error while generating package metadata.\n",
      "╰─> See above for output.\n",
      "\n",
      "note: This is an issue with the package mentioned above, not pip.\n",
      "hint: See above for details.\n"
     ]
    }
   ],
   "source": [
    "pip install torch sentencepiece transformers accelerate chromadb tiktoken streamlit fastapi uvicorn python-multipart aiofiles pydantic requests beautifulsoup4 nltk sklearn pandas numpy uvicorn python-multipart aiofiles "
   ]
  },
  {
   "cell_type": "code",
   "execution_count": 58,
   "id": "c3bfc57f",
   "metadata": {},
   "outputs": [
    {
     "name": "stdout",
     "output_type": "stream",
     "text": [
      "Requirement already satisfied: streamlit in c:\\users\\md. emon\\.conda\\envs\\projectsenv\\lib\\site-packages (1.51.0)\n",
      "Requirement already satisfied: altair!=5.4.0,!=5.4.1,<6,>=4.0 in c:\\users\\md. emon\\.conda\\envs\\projectsenv\\lib\\site-packages (from streamlit) (5.5.0)\n",
      "Requirement already satisfied: blinker<2,>=1.5.0 in c:\\users\\md. emon\\.conda\\envs\\projectsenv\\lib\\site-packages (from streamlit) (1.9.0)\n",
      "Requirement already satisfied: cachetools<7,>=4.0 in c:\\users\\md. emon\\.conda\\envs\\projectsenv\\lib\\site-packages (from streamlit) (6.2.1)\n",
      "Requirement already satisfied: click<9,>=7.0 in c:\\users\\md. emon\\.conda\\envs\\projectsenv\\lib\\site-packages (from streamlit) (8.3.0)\n",
      "Requirement already satisfied: numpy<3,>=1.23 in c:\\users\\md. emon\\.conda\\envs\\projectsenv\\lib\\site-packages (from streamlit) (1.26.4)\n",
      "Requirement already satisfied: packaging<26,>=20 in c:\\users\\md. emon\\.conda\\envs\\projectsenv\\lib\\site-packages (from streamlit) (24.2)\n",
      "Requirement already satisfied: pandas<3,>=1.4.0 in c:\\users\\md. emon\\.conda\\envs\\projectsenv\\lib\\site-packages (from streamlit) (2.3.3)\n",
      "Requirement already satisfied: pillow<13,>=7.1.0 in c:\\users\\md. emon\\.conda\\envs\\projectsenv\\lib\\site-packages (from streamlit) (12.0.0)\n",
      "Requirement already satisfied: protobuf<7,>=3.20 in c:\\users\\md. emon\\.conda\\envs\\projectsenv\\lib\\site-packages (from streamlit) (6.33.0)\n",
      "Requirement already satisfied: pyarrow<22,>=7.0 in c:\\users\\md. emon\\.conda\\envs\\projectsenv\\lib\\site-packages (from streamlit) (21.0.0)\n",
      "Requirement already satisfied: requests<3,>=2.27 in c:\\users\\md. emon\\.conda\\envs\\projectsenv\\lib\\site-packages (from streamlit) (2.32.5)\n",
      "Requirement already satisfied: tenacity<10,>=8.1.0 in c:\\users\\md. emon\\.conda\\envs\\projectsenv\\lib\\site-packages (from streamlit) (9.1.2)\n",
      "Requirement already satisfied: toml<2,>=0.10.1 in c:\\users\\md. emon\\.conda\\envs\\projectsenv\\lib\\site-packages (from streamlit) (0.10.2)\n",
      "Requirement already satisfied: typing-extensions<5,>=4.4.0 in c:\\users\\md. emon\\.conda\\envs\\projectsenv\\lib\\site-packages (from streamlit) (4.15.0)\n",
      "Requirement already satisfied: watchdog<7,>=2.1.5 in c:\\users\\md. emon\\.conda\\envs\\projectsenv\\lib\\site-packages (from streamlit) (6.0.0)\n",
      "Requirement already satisfied: gitpython!=3.1.19,<4,>=3.0.7 in c:\\users\\md. emon\\.conda\\envs\\projectsenv\\lib\\site-packages (from streamlit) (3.1.45)\n",
      "Requirement already satisfied: pydeck<1,>=0.8.0b4 in c:\\users\\md. emon\\.conda\\envs\\projectsenv\\lib\\site-packages (from streamlit) (0.9.1)\n",
      "Requirement already satisfied: tornado!=6.5.0,<7,>=6.0.3 in c:\\users\\md. emon\\.conda\\envs\\projectsenv\\lib\\site-packages (from streamlit) (6.5.2)\n",
      "Requirement already satisfied: jinja2 in c:\\users\\md. emon\\.conda\\envs\\projectsenv\\lib\\site-packages (from altair!=5.4.0,!=5.4.1,<6,>=4.0->streamlit) (3.1.6)\n",
      "Requirement already satisfied: jsonschema>=3.0 in c:\\users\\md. emon\\.conda\\envs\\projectsenv\\lib\\site-packages (from altair!=5.4.0,!=5.4.1,<6,>=4.0->streamlit) (4.25.1)\n",
      "Requirement already satisfied: narwhals>=1.14.2 in c:\\users\\md. emon\\.conda\\envs\\projectsenv\\lib\\site-packages (from altair!=5.4.0,!=5.4.1,<6,>=4.0->streamlit) (2.10.0)\n",
      "Requirement already satisfied: colorama in c:\\users\\md. emon\\.conda\\envs\\projectsenv\\lib\\site-packages (from click<9,>=7.0->streamlit) (0.4.6)\n",
      "Requirement already satisfied: gitdb<5,>=4.0.1 in c:\\users\\md. emon\\.conda\\envs\\projectsenv\\lib\\site-packages (from gitpython!=3.1.19,<4,>=3.0.7->streamlit) (4.0.12)\n",
      "Requirement already satisfied: smmap<6,>=3.0.1 in c:\\users\\md. emon\\.conda\\envs\\projectsenv\\lib\\site-packages (from gitdb<5,>=4.0.1->gitpython!=3.1.19,<4,>=3.0.7->streamlit) (5.0.2)\n",
      "Requirement already satisfied: python-dateutil>=2.8.2 in c:\\users\\md. emon\\.conda\\envs\\projectsenv\\lib\\site-packages (from pandas<3,>=1.4.0->streamlit) (2.9.0.post0)\n",
      "Requirement already satisfied: pytz>=2020.1 in c:\\users\\md. emon\\.conda\\envs\\projectsenv\\lib\\site-packages (from pandas<3,>=1.4.0->streamlit) (2025.2)\n",
      "Requirement already satisfied: tzdata>=2022.7 in c:\\users\\md. emon\\.conda\\envs\\projectsenv\\lib\\site-packages (from pandas<3,>=1.4.0->streamlit) (2025.2)\n",
      "Requirement already satisfied: charset_normalizer<4,>=2 in c:\\users\\md. emon\\.conda\\envs\\projectsenv\\lib\\site-packages (from requests<3,>=2.27->streamlit) (3.4.4)\n",
      "Requirement already satisfied: idna<4,>=2.5 in c:\\users\\md. emon\\.conda\\envs\\projectsenv\\lib\\site-packages (from requests<3,>=2.27->streamlit) (3.11)\n",
      "Requirement already satisfied: urllib3<3,>=1.21.1 in c:\\users\\md. emon\\.conda\\envs\\projectsenv\\lib\\site-packages (from requests<3,>=2.27->streamlit) (2.3.0)\n",
      "Requirement already satisfied: certifi>=2017.4.17 in c:\\users\\md. emon\\.conda\\envs\\projectsenv\\lib\\site-packages (from requests<3,>=2.27->streamlit) (2025.10.5)\n",
      "Requirement already satisfied: MarkupSafe>=2.0 in c:\\users\\md. emon\\.conda\\envs\\projectsenv\\lib\\site-packages (from jinja2->altair!=5.4.0,!=5.4.1,<6,>=4.0->streamlit) (3.0.3)\n",
      "Requirement already satisfied: attrs>=22.2.0 in c:\\users\\md. emon\\.conda\\envs\\projectsenv\\lib\\site-packages (from jsonschema>=3.0->altair!=5.4.0,!=5.4.1,<6,>=4.0->streamlit) (25.4.0)\n",
      "Requirement already satisfied: jsonschema-specifications>=2023.03.6 in c:\\users\\md. emon\\.conda\\envs\\projectsenv\\lib\\site-packages (from jsonschema>=3.0->altair!=5.4.0,!=5.4.1,<6,>=4.0->streamlit) (2025.9.1)\n",
      "Requirement already satisfied: referencing>=0.28.4 in c:\\users\\md. emon\\.conda\\envs\\projectsenv\\lib\\site-packages (from jsonschema>=3.0->altair!=5.4.0,!=5.4.1,<6,>=4.0->streamlit) (0.37.0)\n",
      "Requirement already satisfied: rpds-py>=0.7.1 in c:\\users\\md. emon\\.conda\\envs\\projectsenv\\lib\\site-packages (from jsonschema>=3.0->altair!=5.4.0,!=5.4.1,<6,>=4.0->streamlit) (0.28.0)\n",
      "Requirement already satisfied: six>=1.5 in c:\\users\\md. emon\\.conda\\envs\\projectsenv\\lib\\site-packages (from python-dateutil>=2.8.2->pandas<3,>=1.4.0->streamlit) (1.17.0)\n",
      "Note: you may need to restart the kernel to use updated packages.\n"
     ]
    }
   ],
   "source": [
    "pip install streamlit"
   ]
  },
  {
   "cell_type": "code",
   "execution_count": 59,
   "id": "5677e958",
   "metadata": {},
   "outputs": [
    {
     "name": "stdout",
     "output_type": "stream",
     "text": [
      "Hello, World!\n"
     ]
    }
   ],
   "source": [
    "print(\"Hello, World!\")"
   ]
  },
  {
   "cell_type": "code",
   "execution_count": 60,
   "id": "97efa568",
   "metadata": {},
   "outputs": [],
   "source": [
    "#Load Important Libraries \n",
    "import streamlit as st\n",
    "from langchain.text_splitter import RecursiveCharacterTextSplitter\n",
    "from langchain.document_loaders import PyPDFLoader, DirectoryLoader\n",
    "from langchain.chains.summarize import load_summarize_chain\n",
    "from transformers import T5Tokenizer , T5ForConditionalGeneration\n",
    "from transformers import pipeline\n",
    "import torch\n",
    "import base64 \n"
   ]
  },
  {
   "cell_type": "code",
   "execution_count": 61,
   "id": "f113fd4a",
   "metadata": {},
   "outputs": [
    {
     "name": "stdout",
     "output_type": "stream",
     "text": [
      "Requirement already satisfied: accelerate in c:\\users\\md. emon\\.conda\\envs\\projectsenv\\lib\\site-packages (1.11.0)\n",
      "Requirement already satisfied: numpy>=1.17 in c:\\users\\md. emon\\.conda\\envs\\projectsenv\\lib\\site-packages (from accelerate) (1.26.4)\n",
      "Requirement already satisfied: packaging>=20.0 in c:\\users\\md. emon\\.conda\\envs\\projectsenv\\lib\\site-packages (from accelerate) (24.2)\n",
      "Requirement already satisfied: psutil in c:\\users\\md. emon\\.conda\\envs\\projectsenv\\lib\\site-packages (from accelerate) (7.1.2)\n",
      "Requirement already satisfied: pyyaml in c:\\users\\md. emon\\.conda\\envs\\projectsenv\\lib\\site-packages (from accelerate) (6.0.3)\n",
      "Requirement already satisfied: torch>=2.0.0 in c:\\users\\md. emon\\.conda\\envs\\projectsenv\\lib\\site-packages (from accelerate) (2.9.0)\n",
      "Requirement already satisfied: huggingface_hub>=0.21.0 in c:\\users\\md. emon\\.conda\\envs\\projectsenv\\lib\\site-packages (from accelerate) (0.36.0)\n",
      "Requirement already satisfied: safetensors>=0.4.3 in c:\\users\\md. emon\\.conda\\envs\\projectsenv\\lib\\site-packages (from accelerate) (0.6.2)\n",
      "Requirement already satisfied: filelock in c:\\users\\md. emon\\.conda\\envs\\projectsenv\\lib\\site-packages (from huggingface_hub>=0.21.0->accelerate) (3.20.0)\n",
      "Requirement already satisfied: fsspec>=2023.5.0 in c:\\users\\md. emon\\.conda\\envs\\projectsenv\\lib\\site-packages (from huggingface_hub>=0.21.0->accelerate) (2025.9.0)\n",
      "Requirement already satisfied: requests in c:\\users\\md. emon\\.conda\\envs\\projectsenv\\lib\\site-packages (from huggingface_hub>=0.21.0->accelerate) (2.32.5)\n",
      "Requirement already satisfied: tqdm>=4.42.1 in c:\\users\\md. emon\\.conda\\envs\\projectsenv\\lib\\site-packages (from huggingface_hub>=0.21.0->accelerate) (4.67.1)\n",
      "Requirement already satisfied: typing-extensions>=3.7.4.3 in c:\\users\\md. emon\\.conda\\envs\\projectsenv\\lib\\site-packages (from huggingface_hub>=0.21.0->accelerate) (4.15.0)\n",
      "Requirement already satisfied: sympy>=1.13.3 in c:\\users\\md. emon\\.conda\\envs\\projectsenv\\lib\\site-packages (from torch>=2.0.0->accelerate) (1.14.0)\n",
      "Requirement already satisfied: networkx>=2.5.1 in c:\\users\\md. emon\\.conda\\envs\\projectsenv\\lib\\site-packages (from torch>=2.0.0->accelerate) (3.5)\n",
      "Requirement already satisfied: jinja2 in c:\\users\\md. emon\\.conda\\envs\\projectsenv\\lib\\site-packages (from torch>=2.0.0->accelerate) (3.1.6)\n",
      "Requirement already satisfied: mpmath<1.4,>=1.1.0 in c:\\users\\md. emon\\.conda\\envs\\projectsenv\\lib\\site-packages (from sympy>=1.13.3->torch>=2.0.0->accelerate) (1.3.0)\n",
      "Requirement already satisfied: colorama in c:\\users\\md. emon\\.conda\\envs\\projectsenv\\lib\\site-packages (from tqdm>=4.42.1->huggingface_hub>=0.21.0->accelerate) (0.4.6)\n",
      "Requirement already satisfied: MarkupSafe>=2.0 in c:\\users\\md. emon\\.conda\\envs\\projectsenv\\lib\\site-packages (from jinja2->torch>=2.0.0->accelerate) (3.0.3)\n",
      "Requirement already satisfied: charset_normalizer<4,>=2 in c:\\users\\md. emon\\.conda\\envs\\projectsenv\\lib\\site-packages (from requests->huggingface_hub>=0.21.0->accelerate) (3.4.4)\n",
      "Requirement already satisfied: idna<4,>=2.5 in c:\\users\\md. emon\\.conda\\envs\\projectsenv\\lib\\site-packages (from requests->huggingface_hub>=0.21.0->accelerate) (3.11)\n",
      "Requirement already satisfied: urllib3<3,>=1.21.1 in c:\\users\\md. emon\\.conda\\envs\\projectsenv\\lib\\site-packages (from requests->huggingface_hub>=0.21.0->accelerate) (2.3.0)\n",
      "Requirement already satisfied: certifi>=2017.4.17 in c:\\users\\md. emon\\.conda\\envs\\projectsenv\\lib\\site-packages (from requests->huggingface_hub>=0.21.0->accelerate) (2025.10.5)\n",
      "Note: you may need to restart the kernel to use updated packages.\n"
     ]
    }
   ],
   "source": [
    "pip install accelerate"
   ]
  },
  {
   "cell_type": "code",
   "execution_count": 62,
   "id": "d70d91a0",
   "metadata": {},
   "outputs": [
    {
     "name": "stdout",
     "output_type": "stream",
     "text": [
      "Requirement already satisfied: hf_xet in c:\\users\\md. emon\\.conda\\envs\\projectsenv\\lib\\site-packages (1.2.0)\n",
      "Note: you may need to restart the kernel to use updated packages.\n"
     ]
    }
   ],
   "source": [
    "pip install hf_xet"
   ]
  },
  {
   "cell_type": "code",
   "execution_count": null,
   "id": "e47418ac",
   "metadata": {},
   "outputs": [],
   "source": [
    "# Model and Tokenizer\n",
    "checkpoint = \"MBZUAI/LaMini-Flan-T5-248M\"\n",
    "tokenizer = T5Tokenizer.from_pretrained(checkpoint)\n",
    "model = T5ForConditionalGeneration.from_pretrained(checkpoint, device_map='auto', torch_dtype=torch.float16)\n",
    "\n",
    "def file_preprocessing(file):\n",
    "    loader = PyPDFLoader(file)\n",
    "    pages = loader.load_and_split()\n",
    "    text_splitter = RecursiveCharacterTextSplitter(chunk_size=200, chunk_overlap=50)\n",
    "    text = text_splitter.split_documents(pages)\n",
    "    final_text = \"\"\n",
    "    for doc in text:\n",
    "        print(doc)\n",
    "        final_text += doc.page_content + \"\\n\"\n",
    "    return final_text\n",
    "\n",
    "#define llm pipeline\n",
    "def llm_pipeline(filepath):\n",
    "\n",
    "    pipeline_summarization = pipeline(\n",
    "        \"summarization\", \n",
    "        model=model, \n",
    "        tokenizer=tokenizer, \n",
    "        max_length=500,  # Fixed typo\n",
    "        min_length=50\n",
    "    ) \n",
    "    \n",
    "    input_text = file_preprocessing(filepath)\n",
    "    summary = pipeline_summarization(input_text)\n",
    "    summary = summary[0]['summary_text']  # Fixed: should be summary[0], not input_text[0]\n",
    "    return summary\n",
    "\n",
    "# Now you can call the function with an actual filepath\n",
    "# Example usage:\n",
    "# result = llm_pipeline(\"your_file.pdf\")\n",
    "# print(result)"
   ]
  },
  {
   "cell_type": "code",
   "execution_count": 67,
   "id": "8af1fd94",
   "metadata": {},
   "outputs": [
    {
     "name": "stderr",
     "output_type": "stream",
     "text": [
      "2025-11-01 19:22:58.933 WARNING streamlit.runtime.caching.cache_data_api: No runtime found, using MemoryCacheStorageManager\n"
     ]
    }
   ],
   "source": [
    "@st.cache_data\n",
    "def display_pdf(file):\n",
    "    with open(file, \"rb\") as f:\n",
    "        base64_pdf = base64.b64encode(f.read()).decode('utf-8')\n",
    "    pdf_display = f'<iframe src=\"data:application/pdf;base64,{base64_pdf}\" width=\"700\" height=\"1000\" type=\"application/pdf\"></iframe>'\n",
    "    st.markdown(pdf_display, unsafe_allow_html=True)"
   ]
  },
  {
   "cell_type": "code",
   "execution_count": null,
   "id": "973603dc",
   "metadata": {},
   "outputs": [
    {
     "name": "stderr",
     "output_type": "stream",
     "text": [
      "2025-11-01 19:34:44.408 Thread 'MainThread': missing ScriptRunContext! This warning can be ignored when running in bare mode.\n"
     ]
    }
   ],
   "source": [
    "#Streamlit App Code\n",
    "st.set_page_config(page_title=\"Document Summarizer\")\n",
    "def main():\n",
    "    st.title(\"Document Summarizer using LLM\")\n",
    "    st.write(\"Upload a PDF document to generate its summary.\")\n",
    "    uploaded_file = st.file_uploader(\"Choose a PDF file\", type=[\"pdf\"])\n",
    "    if uploaded_file is not None:\n",
    "        if st.button(\"Generate Summary\"):\n",
    "            col1, col2 = st.columns(2)\n",
    "            with col1:\n",
    "                st.header(\"Uploaded Document\")\n",
    "                display_pdf(uploaded_file)\n",
    "            with col2:\n",
    "                st.header(\"Document Summary\")\n",
    "                summary = llm_pipeline(uploaded_file)\n",
    "                st.write(summary)\n",
    "    \n",
    "if __name__ == \"__main__\":  \n",
    "    main()\n",
    "    \n",
    "            \n",
    "            \n",
    "\n"
   ]
  },
  {
   "cell_type": "code",
   "execution_count": null,
   "id": "962047aa",
   "metadata": {},
   "outputs": [],
   "source": []
  }
 ],
 "metadata": {
  "kernelspec": {
   "display_name": "projectsenv",
   "language": "python",
   "name": "python3"
  },
  "language_info": {
   "codemirror_mode": {
    "name": "ipython",
    "version": 3
   },
   "file_extension": ".py",
   "mimetype": "text/x-python",
   "name": "python",
   "nbconvert_exporter": "python",
   "pygments_lexer": "ipython3",
   "version": "3.11.14"
  }
 },
 "nbformat": 4,
 "nbformat_minor": 5
}
